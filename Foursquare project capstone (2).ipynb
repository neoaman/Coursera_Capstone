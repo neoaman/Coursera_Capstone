{
 "cells": [
  {
   "cell_type": "markdown",
   "metadata": {},
   "source": [
    "## Week 04"
   ]
  },
  {
   "cell_type": "markdown",
   "metadata": {},
   "source": [
    "## Import required Packages"
   ]
  },
  {
   "cell_type": "code",
   "execution_count": 1,
   "metadata": {},
   "outputs": [],
   "source": [
    "import requests\n",
    "from bs4 import BeautifulSoup\n",
    "import pandas as pd # library for data analsysis\n",
    "import numpy as np # library to handle data in a vectorized manner\n",
    "import random # l"
   ]
  },
  {
   "cell_type": "markdown",
   "metadata": {},
   "source": [
    "#### module to convert an address into latitude and longitude values"
   ]
  },
  {
   "cell_type": "code",
   "execution_count": 2,
   "metadata": {},
   "outputs": [],
   "source": [
    "from geopy.geocoders import Nominatim"
   ]
  },
  {
   "cell_type": "markdown",
   "metadata": {},
   "source": [
    "#### For Image Visulization"
   ]
  },
  {
   "cell_type": "code",
   "execution_count": 3,
   "metadata": {},
   "outputs": [],
   "source": [
    "from IPython.display import Image \n",
    "from IPython.core.display import HTML "
   ]
  },
  {
   "cell_type": "markdown",
   "metadata": {},
   "source": [
    "#### tranforming json file into a pandas dataframe library"
   ]
  },
  {
   "cell_type": "code",
   "execution_count": 4,
   "metadata": {},
   "outputs": [],
   "source": [
    "from pandas.io.json import json_normalize"
   ]
  },
  {
   "cell_type": "code",
   "execution_count": 5,
   "metadata": {},
   "outputs": [],
   "source": [
    "import folium # plotting library"
   ]
  },
  {
   "cell_type": "code",
   "execution_count": 6,
   "metadata": {},
   "outputs": [],
   "source": [
    "url='https://en.wikipedia.org/wiki/List_of_postal_codes_of_Canada:_M'\n",
    "response=requests.get(url)\n",
    "html = response.text\n",
    "page = BeautifulSoup(html,'html.parser')"
   ]
  },
  {
   "cell_type": "code",
   "execution_count": 7,
   "metadata": {},
   "outputs": [],
   "source": [
    "wiki_table = page.body.table.tbody"
   ]
  },
  {
   "cell_type": "markdown",
   "metadata": {},
   "source": [
    "#### definition for getting cell"
   ]
  },
  {
   "cell_type": "code",
   "execution_count": 8,
   "metadata": {},
   "outputs": [],
   "source": [
    "def get_cell(element):\n",
    "    cells = element.find_all('td')\n",
    "    row = []\n",
    "    \n",
    "    for cell in cells:\n",
    "        if cell.a:            \n",
    "            if (cell.a.text):\n",
    "                row.append(cell.a.text)\n",
    "                continue\n",
    "        row.append(cell.string.strip())\n",
    "        \n",
    "    return row"
   ]
  },
  {
   "cell_type": "markdown",
   "metadata": {},
   "source": [
    "#### Definition for getting rows."
   ]
  },
  {
   "cell_type": "code",
   "execution_count": 9,
   "metadata": {},
   "outputs": [],
   "source": [
    "def get_row():    \n",
    "    data = []  \n",
    "    \n",
    "    for tr in wiki_table.find_all('tr'):\n",
    "        row = get_cell(tr)\n",
    "        if len(row) != 3:\n",
    "            continue\n",
    "        data.append(row)        \n",
    "    \n",
    "    return data"
   ]
  },
  {
   "cell_type": "code",
   "execution_count": 10,
   "metadata": {},
   "outputs": [
    {
     "data": {
      "text/html": [
       "<div>\n",
       "<style scoped>\n",
       "    .dataframe tbody tr th:only-of-type {\n",
       "        vertical-align: middle;\n",
       "    }\n",
       "\n",
       "    .dataframe tbody tr th {\n",
       "        vertical-align: top;\n",
       "    }\n",
       "\n",
       "    .dataframe thead th {\n",
       "        text-align: right;\n",
       "    }\n",
       "</style>\n",
       "<table border=\"1\" class=\"dataframe\">\n",
       "  <thead>\n",
       "    <tr style=\"text-align: right;\">\n",
       "      <th></th>\n",
       "      <th>Postcode</th>\n",
       "      <th>Borough</th>\n",
       "      <th>Neighbourhood</th>\n",
       "    </tr>\n",
       "  </thead>\n",
       "  <tbody>\n",
       "    <tr>\n",
       "      <th>0</th>\n",
       "      <td>M1A</td>\n",
       "      <td>Not assigned</td>\n",
       "      <td>Not assigned</td>\n",
       "    </tr>\n",
       "    <tr>\n",
       "      <th>1</th>\n",
       "      <td>M2A</td>\n",
       "      <td>Not assigned</td>\n",
       "      <td>Not assigned</td>\n",
       "    </tr>\n",
       "    <tr>\n",
       "      <th>2</th>\n",
       "      <td>M3A</td>\n",
       "      <td>North York</td>\n",
       "      <td>Parkwoods</td>\n",
       "    </tr>\n",
       "    <tr>\n",
       "      <th>3</th>\n",
       "      <td>M4A</td>\n",
       "      <td>North York</td>\n",
       "      <td>Victoria Village</td>\n",
       "    </tr>\n",
       "    <tr>\n",
       "      <th>4</th>\n",
       "      <td>M5A</td>\n",
       "      <td>Downtown Toronto</td>\n",
       "      <td>Harbourfront</td>\n",
       "    </tr>\n",
       "  </tbody>\n",
       "</table>\n",
       "</div>"
      ],
      "text/plain": [
       "  Postcode           Borough     Neighbourhood\n",
       "0      M1A      Not assigned      Not assigned\n",
       "1      M2A      Not assigned      Not assigned\n",
       "2      M3A        North York         Parkwoods\n",
       "3      M4A        North York  Victoria Village\n",
       "4      M5A  Downtown Toronto      Harbourfront"
      ]
     },
     "execution_count": 10,
     "metadata": {},
     "output_type": "execute_result"
    }
   ],
   "source": [
    "rows = get_row()\n",
    "columns_get = ['Postcode', 'Borough', 'Neighbourhood']\n",
    "df = pd.DataFrame(rows, columns=columns_get)\n",
    "df.head()"
   ]
  },
  {
   "cell_type": "code",
   "execution_count": 11,
   "metadata": {},
   "outputs": [
    {
     "data": {
      "text/plain": [
       "(288, 3)"
      ]
     },
     "execution_count": 11,
     "metadata": {},
     "output_type": "execute_result"
    }
   ],
   "source": [
    "df.shape"
   ]
  },
  {
   "cell_type": "markdown",
   "metadata": {},
   "source": [
    "#### Cleanning the data set"
   ]
  },
  {
   "cell_type": "code",
   "execution_count": 12,
   "metadata": {},
   "outputs": [
    {
     "data": {
      "text/html": [
       "<div>\n",
       "<style scoped>\n",
       "    .dataframe tbody tr th:only-of-type {\n",
       "        vertical-align: middle;\n",
       "    }\n",
       "\n",
       "    .dataframe tbody tr th {\n",
       "        vertical-align: top;\n",
       "    }\n",
       "\n",
       "    .dataframe thead th {\n",
       "        text-align: right;\n",
       "    }\n",
       "</style>\n",
       "<table border=\"1\" class=\"dataframe\">\n",
       "  <thead>\n",
       "    <tr style=\"text-align: right;\">\n",
       "      <th></th>\n",
       "      <th>Postcode</th>\n",
       "      <th>Borough</th>\n",
       "      <th>Neighbourhood</th>\n",
       "    </tr>\n",
       "  </thead>\n",
       "  <tbody>\n",
       "    <tr>\n",
       "      <th>0</th>\n",
       "      <td>M1B</td>\n",
       "      <td>Scarborough</td>\n",
       "      <td>Rouge</td>\n",
       "    </tr>\n",
       "    <tr>\n",
       "      <th>1</th>\n",
       "      <td>M1B</td>\n",
       "      <td>Scarborough</td>\n",
       "      <td>Malvern</td>\n",
       "    </tr>\n",
       "    <tr>\n",
       "      <th>2</th>\n",
       "      <td>M1C</td>\n",
       "      <td>Scarborough</td>\n",
       "      <td>Highland Creek</td>\n",
       "    </tr>\n",
       "    <tr>\n",
       "      <th>3</th>\n",
       "      <td>M1C</td>\n",
       "      <td>Scarborough</td>\n",
       "      <td>Rouge Hill</td>\n",
       "    </tr>\n",
       "    <tr>\n",
       "      <th>4</th>\n",
       "      <td>M1C</td>\n",
       "      <td>Scarborough</td>\n",
       "      <td>Port Union</td>\n",
       "    </tr>\n",
       "  </tbody>\n",
       "</table>\n",
       "</div>"
      ],
      "text/plain": [
       "  Postcode      Borough   Neighbourhood\n",
       "0      M1B  Scarborough           Rouge\n",
       "1      M1B  Scarborough         Malvern\n",
       "2      M1C  Scarborough  Highland Creek\n",
       "3      M1C  Scarborough      Rouge Hill\n",
       "4      M1C  Scarborough      Port Union"
      ]
     },
     "execution_count": 12,
     "metadata": {},
     "output_type": "execute_result"
    }
   ],
   "source": [
    "df=df[df.Borough != 'Not assigned']\n",
    "df=df.sort_values(by=['Postcode','Borough'])\n",
    "df.reset_index(inplace=True)\n",
    "df.drop('index',axis=1,inplace=True)\n",
    "df.head()"
   ]
  },
  {
   "cell_type": "code",
   "execution_count": 13,
   "metadata": {},
   "outputs": [],
   "source": [
    "df_post = df['Postcode']\n",
    "df_post.drop_duplicates(inplace=True)\n",
    "#df_post\n",
    "df_new = pd.DataFrame(df_post)\n",
    "df_new['Borough'] = '';\n",
    "df_new['Neighbourhood'] = '';"
   ]
  },
  {
   "cell_type": "code",
   "execution_count": 14,
   "metadata": {},
   "outputs": [],
   "source": [
    "df_new.reset_index(inplace=True)\n",
    "df_new.drop('index', axis=1, inplace=True)\n",
    "df.reset_index(inplace=True)\n",
    "df.drop('index', axis=1, inplace=True)\n"
   ]
  },
  {
   "cell_type": "code",
   "execution_count": 15,
   "metadata": {},
   "outputs": [
    {
     "data": {
      "text/plain": [
       "(103, 4)"
      ]
     },
     "execution_count": 15,
     "metadata": {},
     "output_type": "execute_result"
    }
   ],
   "source": [
    "df_postcode = df.groupby(['Postcode', 'Borough'])['Neighbourhood'].apply(', '.join).reset_index()\n",
    "df_postcode.head()\n",
    "locgeo_df = pd.read_csv('https://cocl.us/Geospatial_data', index_col='Postal Code')\n",
    "toronto_data = df_postcode.join(locgeo_df, on='Postcode')\n",
    "toronto_data.drop('Postcode', axis=1, inplace=True)\n",
    "toronto_data.shape"
   ]
  },
  {
   "cell_type": "code",
   "execution_count": 16,
   "metadata": {},
   "outputs": [],
   "source": [
    "df = pd.DataFrame(toronto_data)"
   ]
  },
  {
   "cell_type": "code",
   "execution_count": 17,
   "metadata": {},
   "outputs": [],
   "source": [
    "df.to_csv('toronto_data.csv')"
   ]
  },
  {
   "cell_type": "markdown",
   "metadata": {},
   "source": [
    "## Week 05 "
   ]
  },
  {
   "cell_type": "code",
   "execution_count": 18,
   "metadata": {},
   "outputs": [],
   "source": [
    "import matplotlib.pyplot as plt"
   ]
  },
  {
   "cell_type": "code",
   "execution_count": 19,
   "metadata": {},
   "outputs": [
    {
     "data": {
      "image/png": "[encoded data removed]",
      "text/plain": [
       "<Figure size 900x500 with 1 Axes>"
      ]
     },
     "metadata": {
      "needs_background": "light"
     },
     "output_type": "display_data"
    }
   ],
   "source": [
    "\n",
    "plt.figure(figsize=(9,5), dpi = 100)\n",
    "plt.title('Number of Neighbourhood ')\n",
    "toronto_data.groupby('Borough')['Neighbourhood'].count().plot(kind='line')\n",
    "plt.legend()\n",
    "plt.show()"
   ]
  },
  {
   "cell_type": "markdown",
   "metadata": {},
   "source": [
    "### Client Id and Secret for the foursquare API"
   ]
  },
  {
   "cell_type": "code",
   "execution_count": 20,
   "metadata": {},
   "outputs": [
    {
     "name": "stdout",
     "output_type": "stream",
     "text": [
      "Your credentails:\n",
      "CLIENT_ID: DIFB4NBGW2Q52A52H00ZYIODEVAQQAVE1KY5UWIABBS2VGDB\n",
      "CLIENT_SECRET:ZZ5WA24J5JDKIUUN2RQGJF1EWHPXRPKABLFFUY1YCH23SICB\n"
     ]
    }
   ],
   "source": [
    "CLIENT_ID = 'DIFB4NBGW2Q52A52H00ZYIODEVAQQAVE1KY5UWIABBS2VGDB' # Dont See my ID\n",
    "CLIENT_SECRET = 'ZZ5WA24J5JDKIUUN2RQGJF1EWHPXRPKABLFFUY1YCH23SICB' # Dont See my Secret\n",
    "VERSION = '20180604'\n",
    "LIMIT = 30\n",
    "print('Your credentails:')\n",
    "print('CLIENT_ID: ' + CLIENT_ID)\n",
    "print('CLIENT_SECRET:' + CLIENT_SECRET)"
   ]
  },
  {
   "cell_type": "markdown",
   "metadata": {},
   "source": [
    "### Inputing Location Data"
   ]
  },
  {
   "cell_type": "code",
   "execution_count": 29,
   "metadata": {},
   "outputs": [
    {
     "name": "stdout",
     "output_type": "stream",
     "text": [
      "43.653908 -79.384293\n"
     ]
    }
   ],
   "source": [
    "#address = input('Enter your address: ')\n",
    "#address = '123 Queen St W, Toronto, CA'\n",
    "#geolocator = Nominatim(user_agent=\"foursquare_agent\")\n",
    "#location = geolocator.geocode(address)\n",
    "#latitude = location.latitude\n",
    "latitude = 43.653908\n",
    "longitude = -79.384293\n",
    "#longitude = location.longitude\n",
    "print(latitude, longitude)"
   ]
  },
  {
   "cell_type": "markdown",
   "metadata": {},
   "source": [
    "### search_query = 'Indian Resturants'"
   ]
  },
  {
   "cell_type": "code",
   "execution_count": 30,
   "metadata": {},
   "outputs": [
    {
     "name": "stdout",
     "output_type": "stream",
     "text": [
      "What type of food you want to eat? (Italian/Chinese/Indian etc.): Indian\n"
     ]
    }
   ],
   "source": [
    "search_query = input('What type of food you want to eat? (Italian/Chinese/Indian etc.): ')"
   ]
  },
  {
   "cell_type": "code",
   "execution_count": 31,
   "metadata": {},
   "outputs": [
    {
     "name": "stdout",
     "output_type": "stream",
     "text": [
      "Indian .... OK!\n"
     ]
    },
    {
     "data": {
      "text/plain": [
       "'https://api.foursquare.com/oauth2/authenticate?client_id=VQEMV3MW5RJ3JOJ2VFAUYG50KYQY5UEIEQBQVOCPMWFOSUOI'"
      ]
     },
     "execution_count": 31,
     "metadata": {},
     "output_type": "execute_result"
    }
   ],
   "source": [
    "radius = 500\n",
    "print(search_query + ' .... OK!')\n",
    "auth='https://api.foursquare.com/oauth2/authenticate?client_id=VQEMV3MW5RJ3JOJ2VFAUYG50KYQY5UEIEQBQVOCPMWFOSUOI'\n",
    "auth"
   ]
  },
  {
   "cell_type": "code",
   "execution_count": 32,
   "metadata": {},
   "outputs": [],
   "source": [
    "url = 'https://api.foursquare.com/v2/venues/search?client_id={}&client_secret={}&ll={},{}&v={}&query={}&radius={}&limit={}'.format(CLIENT_ID, CLIENT_SECRET, latitude, longitude, VERSION, search_query, radius, LIMIT)"
   ]
  },
  {
   "cell_type": "markdown",
   "metadata": {},
   "source": [
    "### Import Json"
   ]
  },
  {
   "cell_type": "code",
   "execution_count": 35,
   "metadata": {},
   "outputs": [],
   "source": [
    "import json\n",
    "results = requests.get(url).json()"
   ]
  },
  {
   "cell_type": "markdown",
   "metadata": {},
   "source": [
    "###  assign relevant part of JSON to venues"
   ]
  },
  {
   "cell_type": "code",
   "execution_count": 37,
   "metadata": {},
   "outputs": [
    {
     "data": {
      "text/html": [
       "<div>\n",
       "<style scoped>\n",
       "    .dataframe tbody tr th:only-of-type {\n",
       "        vertical-align: middle;\n",
       "    }\n",
       "\n",
       "    .dataframe tbody tr th {\n",
       "        vertical-align: top;\n",
       "    }\n",
       "\n",
       "    .dataframe thead th {\n",
       "        text-align: right;\n",
       "    }\n",
       "</style>\n",
       "<table border=\"1\" class=\"dataframe\">\n",
       "  <thead>\n",
       "    <tr style=\"text-align: right;\">\n",
       "      <th></th>\n",
       "      <th>categories</th>\n",
       "      <th>hasPerk</th>\n",
       "      <th>id</th>\n",
       "      <th>location.address</th>\n",
       "      <th>location.cc</th>\n",
       "      <th>location.city</th>\n",
       "      <th>location.country</th>\n",
       "      <th>location.crossStreet</th>\n",
       "      <th>location.distance</th>\n",
       "      <th>location.formattedAddress</th>\n",
       "      <th>location.labeledLatLngs</th>\n",
       "      <th>location.lat</th>\n",
       "      <th>location.lng</th>\n",
       "      <th>location.postalCode</th>\n",
       "      <th>location.state</th>\n",
       "      <th>name</th>\n",
       "      <th>referralId</th>\n",
       "    </tr>\n",
       "  </thead>\n",
       "  <tbody>\n",
       "    <tr>\n",
       "      <th>0</th>\n",
       "      <td>[{'id': '4bf58dd8d48988d10f941735', 'name': 'I...</td>\n",
       "      <td>False</td>\n",
       "      <td>4afd920ff964a520ad2822e3</td>\n",
       "      <td>181 Dundas St W</td>\n",
       "      <td>CA</td>\n",
       "      <td>Toronto</td>\n",
       "      <td>Canada</td>\n",
       "      <td>W of Chestnut St</td>\n",
       "      <td>232</td>\n",
       "      <td>[181 Dundas St W (W of Chestnut St), Toronto O...</td>\n",
       "      <td>[{'label': 'display', 'lat': 43.65511996683289...</td>\n",
       "      <td>43.655120</td>\n",
       "      <td>-79.386645</td>\n",
       "      <td>M5G 1C7</td>\n",
       "      <td>ON</td>\n",
       "      <td>Indian Biriyani House</td>\n",
       "      <td>v-1561651578</td>\n",
       "    </tr>\n",
       "    <tr>\n",
       "      <th>1</th>\n",
       "      <td>[{'id': '4bf58dd8d48988d10f941735', 'name': 'I...</td>\n",
       "      <td>False</td>\n",
       "      <td>4b2a634af964a52020a824e3</td>\n",
       "      <td>123 Dundas St W</td>\n",
       "      <td>CA</td>\n",
       "      <td>Toronto</td>\n",
       "      <td>Canada</td>\n",
       "      <td>btw Elizabeth &amp; Bay</td>\n",
       "      <td>194</td>\n",
       "      <td>[123 Dundas St W (btw Elizabeth &amp; Bay), Toront...</td>\n",
       "      <td>[{'label': 'display', 'lat': 43.65564910619165...</td>\n",
       "      <td>43.655649</td>\n",
       "      <td>-79.384119</td>\n",
       "      <td>NaN</td>\n",
       "      <td>ON</td>\n",
       "      <td>Indian Flavour</td>\n",
       "      <td>v-1561651578</td>\n",
       "    </tr>\n",
       "    <tr>\n",
       "      <th>2</th>\n",
       "      <td>[{'id': '4bf58dd8d48988d10f941735', 'name': 'I...</td>\n",
       "      <td>False</td>\n",
       "      <td>4fea497c121d2480d3579412</td>\n",
       "      <td>120 Adelaide Street West</td>\n",
       "      <td>CA</td>\n",
       "      <td>Toronto</td>\n",
       "      <td>Canada</td>\n",
       "      <td>at Bay Street</td>\n",
       "      <td>519</td>\n",
       "      <td>[120 Adelaide Street West (at Bay Street), Tor...</td>\n",
       "      <td>[{'label': 'display', 'lat': 43.65005028051833...</td>\n",
       "      <td>43.650050</td>\n",
       "      <td>-79.380662</td>\n",
       "      <td>M5H 3V1</td>\n",
       "      <td>ON</td>\n",
       "      <td>Indian Biriyani House</td>\n",
       "      <td>v-1561651578</td>\n",
       "    </tr>\n",
       "    <tr>\n",
       "      <th>3</th>\n",
       "      <td>[{'id': '4bf58dd8d48988d10f941735', 'name': 'I...</td>\n",
       "      <td>False</td>\n",
       "      <td>5165c333e4b07a7ad88d8a69</td>\n",
       "      <td>NaN</td>\n",
       "      <td>CA</td>\n",
       "      <td>NaN</td>\n",
       "      <td>Canada</td>\n",
       "      <td>NaN</td>\n",
       "      <td>520</td>\n",
       "      <td>[Canada]</td>\n",
       "      <td>[{'label': 'display', 'lat': 43.65814977325445...</td>\n",
       "      <td>43.658150</td>\n",
       "      <td>-79.381563</td>\n",
       "      <td>NaN</td>\n",
       "      <td>NaN</td>\n",
       "      <td>Joe's Indian Restaurant</td>\n",
       "      <td>v-1561651578</td>\n",
       "    </tr>\n",
       "    <tr>\n",
       "      <th>4</th>\n",
       "      <td>[{'id': '4bf58dd8d48988d1cb941735', 'name': 'F...</td>\n",
       "      <td>False</td>\n",
       "      <td>596f9dea1fa7632be2eacab9</td>\n",
       "      <td>NaN</td>\n",
       "      <td>CA</td>\n",
       "      <td>Toronto</td>\n",
       "      <td>Canada</td>\n",
       "      <td>NaN</td>\n",
       "      <td>364</td>\n",
       "      <td>[Toronto ON M5G 2N2, Canada]</td>\n",
       "      <td>[{'label': 'display', 'lat': 43.65698561897954...</td>\n",
       "      <td>43.656986</td>\n",
       "      <td>-79.385840</td>\n",
       "      <td>M5G 2N2</td>\n",
       "      <td>ON</td>\n",
       "      <td>Mami's Indian Cuisine</td>\n",
       "      <td>v-1561651578</td>\n",
       "    </tr>\n",
       "  </tbody>\n",
       "</table>\n",
       "</div>"
      ],
      "text/plain": [
       "                                          categories  hasPerk  \\\n",
       "0  [{'id': '4bf58dd8d48988d10f941735', 'name': 'I...    False   \n",
       "1  [{'id': '4bf58dd8d48988d10f941735', 'name': 'I...    False   \n",
       "2  [{'id': '4bf58dd8d48988d10f941735', 'name': 'I...    False   \n",
       "3  [{'id': '4bf58dd8d48988d10f941735', 'name': 'I...    False   \n",
       "4  [{'id': '4bf58dd8d48988d1cb941735', 'name': 'F...    False   \n",
       "\n",
       "                         id          location.address location.cc  \\\n",
       "0  4afd920ff964a520ad2822e3           181 Dundas St W          CA   \n",
       "1  4b2a634af964a52020a824e3           123 Dundas St W          CA   \n",
       "2  4fea497c121d2480d3579412  120 Adelaide Street West          CA   \n",
       "3  5165c333e4b07a7ad88d8a69                       NaN          CA   \n",
       "4  596f9dea1fa7632be2eacab9                       NaN          CA   \n",
       "\n",
       "  location.city location.country location.crossStreet  location.distance  \\\n",
       "0       Toronto           Canada     W of Chestnut St                232   \n",
       "1       Toronto           Canada  btw Elizabeth & Bay                194   \n",
       "2       Toronto           Canada        at Bay Street                519   \n",
       "3           NaN           Canada                  NaN                520   \n",
       "4       Toronto           Canada                  NaN                364   \n",
       "\n",
       "                           location.formattedAddress  \\\n",
       "0  [181 Dundas St W (W of Chestnut St), Toronto O...   \n",
       "1  [123 Dundas St W (btw Elizabeth & Bay), Toront...   \n",
       "2  [120 Adelaide Street West (at Bay Street), Tor...   \n",
       "3                                           [Canada]   \n",
       "4                       [Toronto ON M5G 2N2, Canada]   \n",
       "\n",
       "                             location.labeledLatLngs  location.lat  \\\n",
       "0  [{'label': 'display', 'lat': 43.65511996683289...     43.655120   \n",
       "1  [{'label': 'display', 'lat': 43.65564910619165...     43.655649   \n",
       "2  [{'label': 'display', 'lat': 43.65005028051833...     43.650050   \n",
       "3  [{'label': 'display', 'lat': 43.65814977325445...     43.658150   \n",
       "4  [{'label': 'display', 'lat': 43.65698561897954...     43.656986   \n",
       "\n",
       "   location.lng location.postalCode location.state                     name  \\\n",
       "0    -79.386645             M5G 1C7             ON    Indian Biriyani House   \n",
       "1    -79.384119                 NaN             ON           Indian Flavour   \n",
       "2    -79.380662             M5H 3V1             ON    Indian Biriyani House   \n",
       "3    -79.381563                 NaN            NaN  Joe's Indian Restaurant   \n",
       "4    -79.385840             M5G 2N2             ON    Mami's Indian Cuisine   \n",
       "\n",
       "     referralId  \n",
       "0  v-1561651578  \n",
       "1  v-1561651578  \n",
       "2  v-1561651578  \n",
       "3  v-1561651578  \n",
       "4  v-1561651578  "
      ]
     },
     "execution_count": 37,
     "metadata": {},
     "output_type": "execute_result"
    }
   ],
   "source": [
    "\n",
    "venues = results['response']['venues']\n",
    "\n",
    "# tranform venues into a dataframe\n",
    "dataframe = json_normalize(venues)\n",
    "dataframe.head()"
   ]
  },
  {
   "cell_type": "markdown",
   "metadata": {},
   "source": [
    "###   keep only columns that include venue name, and anything that is associated with location"
   ]
  },
  {
   "cell_type": "code",
   "execution_count": 39,
   "metadata": {},
   "outputs": [
    {
     "data": {
      "text/html": [
       "<div>\n",
       "<style scoped>\n",
       "    .dataframe tbody tr th:only-of-type {\n",
       "        vertical-align: middle;\n",
       "    }\n",
       "\n",
       "    .dataframe tbody tr th {\n",
       "        vertical-align: top;\n",
       "    }\n",
       "\n",
       "    .dataframe thead th {\n",
       "        text-align: right;\n",
       "    }\n",
       "</style>\n",
       "<table border=\"1\" class=\"dataframe\">\n",
       "  <thead>\n",
       "    <tr style=\"text-align: right;\">\n",
       "      <th></th>\n",
       "      <th>name</th>\n",
       "      <th>categories</th>\n",
       "      <th>address</th>\n",
       "      <th>cc</th>\n",
       "      <th>city</th>\n",
       "      <th>country</th>\n",
       "      <th>crossStreet</th>\n",
       "      <th>distance</th>\n",
       "      <th>formattedAddress</th>\n",
       "      <th>labeledLatLngs</th>\n",
       "      <th>lat</th>\n",
       "      <th>lng</th>\n",
       "      <th>postalCode</th>\n",
       "      <th>state</th>\n",
       "      <th>id</th>\n",
       "    </tr>\n",
       "  </thead>\n",
       "  <tbody>\n",
       "    <tr>\n",
       "      <th>0</th>\n",
       "      <td>Indian Biriyani House</td>\n",
       "      <td>Indian Restaurant</td>\n",
       "      <td>181 Dundas St W</td>\n",
       "      <td>CA</td>\n",
       "      <td>Toronto</td>\n",
       "      <td>Canada</td>\n",
       "      <td>W of Chestnut St</td>\n",
       "      <td>232</td>\n",
       "      <td>[181 Dundas St W (W of Chestnut St), Toronto O...</td>\n",
       "      <td>[{'label': 'display', 'lat': 43.65511996683289...</td>\n",
       "      <td>43.655120</td>\n",
       "      <td>-79.386645</td>\n",
       "      <td>M5G 1C7</td>\n",
       "      <td>ON</td>\n",
       "      <td>4afd920ff964a520ad2822e3</td>\n",
       "    </tr>\n",
       "    <tr>\n",
       "      <th>1</th>\n",
       "      <td>Indian Flavour</td>\n",
       "      <td>Indian Restaurant</td>\n",
       "      <td>123 Dundas St W</td>\n",
       "      <td>CA</td>\n",
       "      <td>Toronto</td>\n",
       "      <td>Canada</td>\n",
       "      <td>btw Elizabeth &amp; Bay</td>\n",
       "      <td>194</td>\n",
       "      <td>[123 Dundas St W (btw Elizabeth &amp; Bay), Toront...</td>\n",
       "      <td>[{'label': 'display', 'lat': 43.65564910619165...</td>\n",
       "      <td>43.655649</td>\n",
       "      <td>-79.384119</td>\n",
       "      <td>NaN</td>\n",
       "      <td>ON</td>\n",
       "      <td>4b2a634af964a52020a824e3</td>\n",
       "    </tr>\n",
       "    <tr>\n",
       "      <th>2</th>\n",
       "      <td>Indian Biriyani House</td>\n",
       "      <td>Indian Restaurant</td>\n",
       "      <td>120 Adelaide Street West</td>\n",
       "      <td>CA</td>\n",
       "      <td>Toronto</td>\n",
       "      <td>Canada</td>\n",
       "      <td>at Bay Street</td>\n",
       "      <td>519</td>\n",
       "      <td>[120 Adelaide Street West (at Bay Street), Tor...</td>\n",
       "      <td>[{'label': 'display', 'lat': 43.65005028051833...</td>\n",
       "      <td>43.650050</td>\n",
       "      <td>-79.380662</td>\n",
       "      <td>M5H 3V1</td>\n",
       "      <td>ON</td>\n",
       "      <td>4fea497c121d2480d3579412</td>\n",
       "    </tr>\n",
       "    <tr>\n",
       "      <th>3</th>\n",
       "      <td>Joe's Indian Restaurant</td>\n",
       "      <td>Indian Restaurant</td>\n",
       "      <td>NaN</td>\n",
       "      <td>CA</td>\n",
       "      <td>NaN</td>\n",
       "      <td>Canada</td>\n",
       "      <td>NaN</td>\n",
       "      <td>520</td>\n",
       "      <td>[Canada]</td>\n",
       "      <td>[{'label': 'display', 'lat': 43.65814977325445...</td>\n",
       "      <td>43.658150</td>\n",
       "      <td>-79.381563</td>\n",
       "      <td>NaN</td>\n",
       "      <td>NaN</td>\n",
       "      <td>5165c333e4b07a7ad88d8a69</td>\n",
       "    </tr>\n",
       "    <tr>\n",
       "      <th>4</th>\n",
       "      <td>Mami's Indian Cuisine</td>\n",
       "      <td>Food Truck</td>\n",
       "      <td>NaN</td>\n",
       "      <td>CA</td>\n",
       "      <td>Toronto</td>\n",
       "      <td>Canada</td>\n",
       "      <td>NaN</td>\n",
       "      <td>364</td>\n",
       "      <td>[Toronto ON M5G 2N2, Canada]</td>\n",
       "      <td>[{'label': 'display', 'lat': 43.65698561897954...</td>\n",
       "      <td>43.656986</td>\n",
       "      <td>-79.385840</td>\n",
       "      <td>M5G 2N2</td>\n",
       "      <td>ON</td>\n",
       "      <td>596f9dea1fa7632be2eacab9</td>\n",
       "    </tr>\n",
       "  </tbody>\n",
       "</table>\n",
       "</div>"
      ],
      "text/plain": [
       "                      name         categories                   address  cc  \\\n",
       "0    Indian Biriyani House  Indian Restaurant           181 Dundas St W  CA   \n",
       "1           Indian Flavour  Indian Restaurant           123 Dundas St W  CA   \n",
       "2    Indian Biriyani House  Indian Restaurant  120 Adelaide Street West  CA   \n",
       "3  Joe's Indian Restaurant  Indian Restaurant                       NaN  CA   \n",
       "4    Mami's Indian Cuisine         Food Truck                       NaN  CA   \n",
       "\n",
       "      city country          crossStreet  distance  \\\n",
       "0  Toronto  Canada     W of Chestnut St       232   \n",
       "1  Toronto  Canada  btw Elizabeth & Bay       194   \n",
       "2  Toronto  Canada        at Bay Street       519   \n",
       "3      NaN  Canada                  NaN       520   \n",
       "4  Toronto  Canada                  NaN       364   \n",
       "\n",
       "                                    formattedAddress  \\\n",
       "0  [181 Dundas St W (W of Chestnut St), Toronto O...   \n",
       "1  [123 Dundas St W (btw Elizabeth & Bay), Toront...   \n",
       "2  [120 Adelaide Street West (at Bay Street), Tor...   \n",
       "3                                           [Canada]   \n",
       "4                       [Toronto ON M5G 2N2, Canada]   \n",
       "\n",
       "                                      labeledLatLngs        lat        lng  \\\n",
       "0  [{'label': 'display', 'lat': 43.65511996683289...  43.655120 -79.386645   \n",
       "1  [{'label': 'display', 'lat': 43.65564910619165...  43.655649 -79.384119   \n",
       "2  [{'label': 'display', 'lat': 43.65005028051833...  43.650050 -79.380662   \n",
       "3  [{'label': 'display', 'lat': 43.65814977325445...  43.658150 -79.381563   \n",
       "4  [{'label': 'display', 'lat': 43.65698561897954...  43.656986 -79.385840   \n",
       "\n",
       "  postalCode state                        id  \n",
       "0    M5G 1C7    ON  4afd920ff964a520ad2822e3  \n",
       "1        NaN    ON  4b2a634af964a52020a824e3  \n",
       "2    M5H 3V1    ON  4fea497c121d2480d3579412  \n",
       "3        NaN   NaN  5165c333e4b07a7ad88d8a69  \n",
       "4    M5G 2N2    ON  596f9dea1fa7632be2eacab9  "
      ]
     },
     "execution_count": 39,
     "metadata": {},
     "output_type": "execute_result"
    }
   ],
   "source": [
    "\n",
    "filtered_columns = ['name', 'categories'] + [col for col in dataframe.columns if col.startswith('location.')] + ['id']\n",
    "dataframe_filtered = dataframe.loc[:, filtered_columns]\n",
    "\n",
    "# function that extracts the category of the venue\n",
    "def get_category_type(row):\n",
    "    try:\n",
    "        categories_list = row['categories']\n",
    "    except:\n",
    "        categories_list = row['venue.categories']\n",
    "        \n",
    "    if len(categories_list) == 0:\n",
    "        return None\n",
    "    else:\n",
    "        return categories_list[0]['name']\n",
    "\n",
    "# filter the category for each row\n",
    "dataframe_filtered['categories'] = dataframe_filtered.apply(get_category_type, axis=1)\n",
    "\n",
    "# clean column names by keeping only last term\n",
    "dataframe_filtered.columns = [column.split('.')[-1] for column in dataframe_filtered.columns]\n",
    "\n",
    "dataframe_filtered\n"
   ]
  },
  {
   "cell_type": "code",
   "execution_count": 41,
   "metadata": {},
   "outputs": [
    {
     "data": {
      "text/plain": [
       "0      Indian Biriyani House\n",
       "1             Indian Flavour\n",
       "2      Indian Biriyani House\n",
       "3    Joe's Indian Restaurant\n",
       "4      Mami's Indian Cuisine\n",
       "Name: name, dtype: object"
      ]
     },
     "execution_count": 41,
     "metadata": {},
     "output_type": "execute_result"
    }
   ],
   "source": [
    "dataframe_filtered.name"
   ]
  },
  {
   "cell_type": "code",
   "execution_count": null,
   "metadata": {},
   "outputs": [],
   "source": [
    "dataframe_filtered=dataframe_filtered.set_index(['id'])"
   ]
  },
  {
   "cell_type": "code",
   "execution_count": 44,
   "metadata": {},
   "outputs": [
    {
     "name": "stdout",
     "output_type": "stream",
     "text": [
      "4afd920ff964a520ad2822e3\n",
      "4b2a634af964a52020a824e3\n",
      "4fea497c121d2480d3579412\n",
      "5165c333e4b07a7ad88d8a69\n",
      "596f9dea1fa7632be2eacab9\n"
     ]
    },
    {
     "data": {
      "text/html": [
       "<div>\n",
       "<style scoped>\n",
       "    .dataframe tbody tr th:only-of-type {\n",
       "        vertical-align: middle;\n",
       "    }\n",
       "\n",
       "    .dataframe tbody tr th {\n",
       "        vertical-align: top;\n",
       "    }\n",
       "\n",
       "    .dataframe thead th {\n",
       "        text-align: right;\n",
       "    }\n",
       "</style>\n",
       "<table border=\"1\" class=\"dataframe\">\n",
       "  <thead>\n",
       "    <tr style=\"text-align: right;\">\n",
       "      <th></th>\n",
       "      <th>name</th>\n",
       "      <th>categories</th>\n",
       "      <th>address</th>\n",
       "      <th>cc</th>\n",
       "      <th>city</th>\n",
       "      <th>country</th>\n",
       "      <th>crossStreet</th>\n",
       "      <th>distance</th>\n",
       "      <th>formattedAddress</th>\n",
       "      <th>labeledLatLngs</th>\n",
       "      <th>lat</th>\n",
       "      <th>lng</th>\n",
       "      <th>postalCode</th>\n",
       "      <th>state</th>\n",
       "      <th>Rating</th>\n",
       "      <th>Pricing</th>\n",
       "      <th>Likes</th>\n",
       "    </tr>\n",
       "    <tr>\n",
       "      <th>id</th>\n",
       "      <th></th>\n",
       "      <th></th>\n",
       "      <th></th>\n",
       "      <th></th>\n",
       "      <th></th>\n",
       "      <th></th>\n",
       "      <th></th>\n",
       "      <th></th>\n",
       "      <th></th>\n",
       "      <th></th>\n",
       "      <th></th>\n",
       "      <th></th>\n",
       "      <th></th>\n",
       "      <th></th>\n",
       "      <th></th>\n",
       "      <th></th>\n",
       "      <th></th>\n",
       "    </tr>\n",
       "  </thead>\n",
       "  <tbody>\n",
       "    <tr>\n",
       "      <th>4afd920ff964a520ad2822e3</th>\n",
       "      <td>Indian Biriyani House</td>\n",
       "      <td>Indian Restaurant</td>\n",
       "      <td>181 Dundas St W</td>\n",
       "      <td>CA</td>\n",
       "      <td>Toronto</td>\n",
       "      <td>Canada</td>\n",
       "      <td>W of Chestnut St</td>\n",
       "      <td>232</td>\n",
       "      <td>[181 Dundas St W (W of Chestnut St), Toronto O...</td>\n",
       "      <td>[{'label': 'display', 'lat': 43.65511996683289...</td>\n",
       "      <td>43.655120</td>\n",
       "      <td>-79.386645</td>\n",
       "      <td>M5G 1C7</td>\n",
       "      <td>ON</td>\n",
       "      <td>7.0</td>\n",
       "      <td>2.0</td>\n",
       "      <td>5.0</td>\n",
       "    </tr>\n",
       "    <tr>\n",
       "      <th>4b2a634af964a52020a824e3</th>\n",
       "      <td>Indian Flavour</td>\n",
       "      <td>Indian Restaurant</td>\n",
       "      <td>123 Dundas St W</td>\n",
       "      <td>CA</td>\n",
       "      <td>Toronto</td>\n",
       "      <td>Canada</td>\n",
       "      <td>btw Elizabeth &amp; Bay</td>\n",
       "      <td>194</td>\n",
       "      <td>[123 Dundas St W (btw Elizabeth &amp; Bay), Toront...</td>\n",
       "      <td>[{'label': 'display', 'lat': 43.65564910619165...</td>\n",
       "      <td>43.655649</td>\n",
       "      <td>-79.384119</td>\n",
       "      <td>NaN</td>\n",
       "      <td>ON</td>\n",
       "      <td>0.0</td>\n",
       "      <td>2.0</td>\n",
       "      <td>0.0</td>\n",
       "    </tr>\n",
       "    <tr>\n",
       "      <th>4fea497c121d2480d3579412</th>\n",
       "      <td>Indian Biriyani House</td>\n",
       "      <td>Indian Restaurant</td>\n",
       "      <td>120 Adelaide Street West</td>\n",
       "      <td>CA</td>\n",
       "      <td>Toronto</td>\n",
       "      <td>Canada</td>\n",
       "      <td>at Bay Street</td>\n",
       "      <td>519</td>\n",
       "      <td>[120 Adelaide Street West (at Bay Street), Tor...</td>\n",
       "      <td>[{'label': 'display', 'lat': 43.65005028051833...</td>\n",
       "      <td>43.650050</td>\n",
       "      <td>-79.380662</td>\n",
       "      <td>M5H 3V1</td>\n",
       "      <td>ON</td>\n",
       "      <td>0.0</td>\n",
       "      <td>2.0</td>\n",
       "      <td>1.0</td>\n",
       "    </tr>\n",
       "    <tr>\n",
       "      <th>5165c333e4b07a7ad88d8a69</th>\n",
       "      <td>Joe's Indian Restaurant</td>\n",
       "      <td>Indian Restaurant</td>\n",
       "      <td>NaN</td>\n",
       "      <td>CA</td>\n",
       "      <td>NaN</td>\n",
       "      <td>Canada</td>\n",
       "      <td>NaN</td>\n",
       "      <td>520</td>\n",
       "      <td>[Canada]</td>\n",
       "      <td>[{'label': 'display', 'lat': 43.65814977325445...</td>\n",
       "      <td>43.658150</td>\n",
       "      <td>-79.381563</td>\n",
       "      <td>NaN</td>\n",
       "      <td>NaN</td>\n",
       "      <td>0.0</td>\n",
       "      <td>2.0</td>\n",
       "      <td>0.0</td>\n",
       "    </tr>\n",
       "    <tr>\n",
       "      <th>596f9dea1fa7632be2eacab9</th>\n",
       "      <td>Mami's Indian Cuisine</td>\n",
       "      <td>Food Truck</td>\n",
       "      <td>NaN</td>\n",
       "      <td>CA</td>\n",
       "      <td>Toronto</td>\n",
       "      <td>Canada</td>\n",
       "      <td>NaN</td>\n",
       "      <td>364</td>\n",
       "      <td>[Toronto ON M5G 2N2, Canada]</td>\n",
       "      <td>[{'label': 'display', 'lat': 43.65698561897954...</td>\n",
       "      <td>43.656986</td>\n",
       "      <td>-79.385840</td>\n",
       "      <td>M5G 2N2</td>\n",
       "      <td>ON</td>\n",
       "      <td>0.0</td>\n",
       "      <td>1.0</td>\n",
       "      <td>0.0</td>\n",
       "    </tr>\n",
       "  </tbody>\n",
       "</table>\n",
       "</div>"
      ],
      "text/plain": [
       "                                             name         categories  \\\n",
       "id                                                                     \n",
       "4afd920ff964a520ad2822e3    Indian Biriyani House  Indian Restaurant   \n",
       "4b2a634af964a52020a824e3           Indian Flavour  Indian Restaurant   \n",
       "4fea497c121d2480d3579412    Indian Biriyani House  Indian Restaurant   \n",
       "5165c333e4b07a7ad88d8a69  Joe's Indian Restaurant  Indian Restaurant   \n",
       "596f9dea1fa7632be2eacab9    Mami's Indian Cuisine         Food Truck   \n",
       "\n",
       "                                           address  cc     city country  \\\n",
       "id                                                                        \n",
       "4afd920ff964a520ad2822e3           181 Dundas St W  CA  Toronto  Canada   \n",
       "4b2a634af964a52020a824e3           123 Dundas St W  CA  Toronto  Canada   \n",
       "4fea497c121d2480d3579412  120 Adelaide Street West  CA  Toronto  Canada   \n",
       "5165c333e4b07a7ad88d8a69                       NaN  CA      NaN  Canada   \n",
       "596f9dea1fa7632be2eacab9                       NaN  CA  Toronto  Canada   \n",
       "\n",
       "                                  crossStreet  distance  \\\n",
       "id                                                        \n",
       "4afd920ff964a520ad2822e3     W of Chestnut St       232   \n",
       "4b2a634af964a52020a824e3  btw Elizabeth & Bay       194   \n",
       "4fea497c121d2480d3579412        at Bay Street       519   \n",
       "5165c333e4b07a7ad88d8a69                  NaN       520   \n",
       "596f9dea1fa7632be2eacab9                  NaN       364   \n",
       "\n",
       "                                                           formattedAddress  \\\n",
       "id                                                                            \n",
       "4afd920ff964a520ad2822e3  [181 Dundas St W (W of Chestnut St), Toronto O...   \n",
       "4b2a634af964a52020a824e3  [123 Dundas St W (btw Elizabeth & Bay), Toront...   \n",
       "4fea497c121d2480d3579412  [120 Adelaide Street West (at Bay Street), Tor...   \n",
       "5165c333e4b07a7ad88d8a69                                           [Canada]   \n",
       "596f9dea1fa7632be2eacab9                       [Toronto ON M5G 2N2, Canada]   \n",
       "\n",
       "                                                             labeledLatLngs  \\\n",
       "id                                                                            \n",
       "4afd920ff964a520ad2822e3  [{'label': 'display', 'lat': 43.65511996683289...   \n",
       "4b2a634af964a52020a824e3  [{'label': 'display', 'lat': 43.65564910619165...   \n",
       "4fea497c121d2480d3579412  [{'label': 'display', 'lat': 43.65005028051833...   \n",
       "5165c333e4b07a7ad88d8a69  [{'label': 'display', 'lat': 43.65814977325445...   \n",
       "596f9dea1fa7632be2eacab9  [{'label': 'display', 'lat': 43.65698561897954...   \n",
       "\n",
       "                                lat        lng postalCode state  Rating  \\\n",
       "id                                                                        \n",
       "4afd920ff964a520ad2822e3  43.655120 -79.386645    M5G 1C7    ON     7.0   \n",
       "4b2a634af964a52020a824e3  43.655649 -79.384119        NaN    ON     0.0   \n",
       "4fea497c121d2480d3579412  43.650050 -79.380662    M5H 3V1    ON     0.0   \n",
       "5165c333e4b07a7ad88d8a69  43.658150 -79.381563        NaN   NaN     0.0   \n",
       "596f9dea1fa7632be2eacab9  43.656986 -79.385840    M5G 2N2    ON     0.0   \n",
       "\n",
       "                          Pricing  Likes  \n",
       "id                                        \n",
       "4afd920ff964a520ad2822e3      2.0    5.0  \n",
       "4b2a634af964a52020a824e3      2.0    0.0  \n",
       "4fea497c121d2480d3579412      2.0    1.0  \n",
       "5165c333e4b07a7ad88d8a69      2.0    0.0  \n",
       "596f9dea1fa7632be2eacab9      1.0    0.0  "
      ]
     },
     "execution_count": 44,
     "metadata": {},
     "output_type": "execute_result"
    }
   ],
   "source": [
    "for x in range(len(dataframe_filtered.index)):\n",
    "    venue_id=dataframe_filtered.index[x]\n",
    "    print(venue_id)\n",
    "    url = 'https://api.foursquare.com/v2/venues/{}?client_id={}&client_secret={}&v={}'.format(venue_id, CLIENT_ID, CLIENT_SECRET, VERSION)\n",
    "    result = requests.get(url).json()\n",
    "    try:\n",
    "        dataframe_filtered.loc[venue_id,'Rating']=result['response']['venue']['rating']\n",
    "        #print(result['response']['venue']['rating'])\n",
    "    except:\n",
    "        dataframe_filtered.loc[venue_id,'Rating']=0\n",
    "        #print('This venue has not been rated yet.')\n",
    "    try:\n",
    "        dataframe_filtered.loc[venue_id,'Pricing']=result['response']['venue']['price']['tier']\n",
    "        #print(result['response']['venue']['rating'])\n",
    "    except:\n",
    "        dataframe_filtered.loc[venue_id,'Pricing']=0    \n",
    "    try:\n",
    "        dataframe_filtered.loc[venue_id,'Likes']=result['response']['venue']['likes']['count']\n",
    "        #print(result['response']['venue']['rating'])\n",
    "    except:\n",
    "        dataframe_filtered.loc[venue_id,'Likes']=0\n",
    "dataframe_filtered"
   ]
  },
  {
   "cell_type": "markdown",
   "metadata": {},
   "source": [
    "#### Save it to a csv file"
   ]
  },
  {
   "cell_type": "code",
   "execution_count": 45,
   "metadata": {},
   "outputs": [],
   "source": [
    "dataframe_filtered.to_csv('IndianResturants.csv')"
   ]
  },
  {
   "cell_type": "code",
   "execution_count": 46,
   "metadata": {},
   "outputs": [
    {
     "data": {
      "text/html": [
       "<div>\n",
       "<style scoped>\n",
       "    .dataframe tbody tr th:only-of-type {\n",
       "        vertical-align: middle;\n",
       "    }\n",
       "\n",
       "    .dataframe tbody tr th {\n",
       "        vertical-align: top;\n",
       "    }\n",
       "\n",
       "    .dataframe thead th {\n",
       "        text-align: right;\n",
       "    }\n",
       "</style>\n",
       "<table border=\"1\" class=\"dataframe\">\n",
       "  <thead>\n",
       "    <tr style=\"text-align: right;\">\n",
       "      <th></th>\n",
       "      <th>id</th>\n",
       "      <th>name</th>\n",
       "      <th>categories</th>\n",
       "      <th>address</th>\n",
       "      <th>cc</th>\n",
       "      <th>city</th>\n",
       "      <th>country</th>\n",
       "      <th>crossStreet</th>\n",
       "      <th>distance</th>\n",
       "      <th>formattedAddress</th>\n",
       "      <th>labeledLatLngs</th>\n",
       "      <th>lat</th>\n",
       "      <th>lng</th>\n",
       "      <th>postalCode</th>\n",
       "      <th>state</th>\n",
       "      <th>Rating</th>\n",
       "      <th>Pricing</th>\n",
       "      <th>Likes</th>\n",
       "    </tr>\n",
       "  </thead>\n",
       "  <tbody>\n",
       "    <tr>\n",
       "      <th>0</th>\n",
       "      <td>4afd920ff964a520ad2822e3</td>\n",
       "      <td>Indian Biriyani House</td>\n",
       "      <td>Indian Restaurant</td>\n",
       "      <td>181 Dundas St W</td>\n",
       "      <td>CA</td>\n",
       "      <td>Toronto</td>\n",
       "      <td>Canada</td>\n",
       "      <td>W of Chestnut St</td>\n",
       "      <td>232</td>\n",
       "      <td>['181 Dundas St W (W of Chestnut St)', 'Toront...</td>\n",
       "      <td>[{'label': 'display', 'lat': 43.65511996683289...</td>\n",
       "      <td>43.655120</td>\n",
       "      <td>-79.386645</td>\n",
       "      <td>M5G 1C7</td>\n",
       "      <td>ON</td>\n",
       "      <td>7.0</td>\n",
       "      <td>2.0</td>\n",
       "      <td>5.0</td>\n",
       "    </tr>\n",
       "    <tr>\n",
       "      <th>1</th>\n",
       "      <td>4b2a634af964a52020a824e3</td>\n",
       "      <td>Indian Flavour</td>\n",
       "      <td>Indian Restaurant</td>\n",
       "      <td>123 Dundas St W</td>\n",
       "      <td>CA</td>\n",
       "      <td>Toronto</td>\n",
       "      <td>Canada</td>\n",
       "      <td>btw Elizabeth &amp; Bay</td>\n",
       "      <td>194</td>\n",
       "      <td>['123 Dundas St W (btw Elizabeth &amp; Bay)', 'Tor...</td>\n",
       "      <td>[{'label': 'display', 'lat': 43.65564910619165...</td>\n",
       "      <td>43.655649</td>\n",
       "      <td>-79.384119</td>\n",
       "      <td>NaN</td>\n",
       "      <td>ON</td>\n",
       "      <td>0.0</td>\n",
       "      <td>2.0</td>\n",
       "      <td>0.0</td>\n",
       "    </tr>\n",
       "    <tr>\n",
       "      <th>2</th>\n",
       "      <td>4fea497c121d2480d3579412</td>\n",
       "      <td>Indian Biriyani House</td>\n",
       "      <td>Indian Restaurant</td>\n",
       "      <td>120 Adelaide Street West</td>\n",
       "      <td>CA</td>\n",
       "      <td>Toronto</td>\n",
       "      <td>Canada</td>\n",
       "      <td>at Bay Street</td>\n",
       "      <td>519</td>\n",
       "      <td>['120 Adelaide Street West (at Bay Street)', '...</td>\n",
       "      <td>[{'label': 'display', 'lat': 43.65005028051833...</td>\n",
       "      <td>43.650050</td>\n",
       "      <td>-79.380662</td>\n",
       "      <td>M5H 3V1</td>\n",
       "      <td>ON</td>\n",
       "      <td>0.0</td>\n",
       "      <td>2.0</td>\n",
       "      <td>1.0</td>\n",
       "    </tr>\n",
       "    <tr>\n",
       "      <th>3</th>\n",
       "      <td>5165c333e4b07a7ad88d8a69</td>\n",
       "      <td>Joe's Indian Restaurant</td>\n",
       "      <td>Indian Restaurant</td>\n",
       "      <td>NaN</td>\n",
       "      <td>CA</td>\n",
       "      <td>NaN</td>\n",
       "      <td>Canada</td>\n",
       "      <td>NaN</td>\n",
       "      <td>520</td>\n",
       "      <td>['Canada']</td>\n",
       "      <td>[{'label': 'display', 'lat': 43.65814977325445...</td>\n",
       "      <td>43.658150</td>\n",
       "      <td>-79.381563</td>\n",
       "      <td>NaN</td>\n",
       "      <td>NaN</td>\n",
       "      <td>0.0</td>\n",
       "      <td>2.0</td>\n",
       "      <td>0.0</td>\n",
       "    </tr>\n",
       "    <tr>\n",
       "      <th>4</th>\n",
       "      <td>596f9dea1fa7632be2eacab9</td>\n",
       "      <td>Mami's Indian Cuisine</td>\n",
       "      <td>Food Truck</td>\n",
       "      <td>NaN</td>\n",
       "      <td>CA</td>\n",
       "      <td>Toronto</td>\n",
       "      <td>Canada</td>\n",
       "      <td>NaN</td>\n",
       "      <td>364</td>\n",
       "      <td>['Toronto ON M5G 2N2', 'Canada']</td>\n",
       "      <td>[{'label': 'display', 'lat': 43.65698561897954...</td>\n",
       "      <td>43.656986</td>\n",
       "      <td>-79.385840</td>\n",
       "      <td>M5G 2N2</td>\n",
       "      <td>ON</td>\n",
       "      <td>0.0</td>\n",
       "      <td>1.0</td>\n",
       "      <td>0.0</td>\n",
       "    </tr>\n",
       "  </tbody>\n",
       "</table>\n",
       "</div>"
      ],
      "text/plain": [
       "                         id                     name         categories  \\\n",
       "0  4afd920ff964a520ad2822e3    Indian Biriyani House  Indian Restaurant   \n",
       "1  4b2a634af964a52020a824e3           Indian Flavour  Indian Restaurant   \n",
       "2  4fea497c121d2480d3579412    Indian Biriyani House  Indian Restaurant   \n",
       "3  5165c333e4b07a7ad88d8a69  Joe's Indian Restaurant  Indian Restaurant   \n",
       "4  596f9dea1fa7632be2eacab9    Mami's Indian Cuisine         Food Truck   \n",
       "\n",
       "                    address  cc     city country          crossStreet  \\\n",
       "0           181 Dundas St W  CA  Toronto  Canada     W of Chestnut St   \n",
       "1           123 Dundas St W  CA  Toronto  Canada  btw Elizabeth & Bay   \n",
       "2  120 Adelaide Street West  CA  Toronto  Canada        at Bay Street   \n",
       "3                       NaN  CA      NaN  Canada                  NaN   \n",
       "4                       NaN  CA  Toronto  Canada                  NaN   \n",
       "\n",
       "   distance                                   formattedAddress  \\\n",
       "0       232  ['181 Dundas St W (W of Chestnut St)', 'Toront...   \n",
       "1       194  ['123 Dundas St W (btw Elizabeth & Bay)', 'Tor...   \n",
       "2       519  ['120 Adelaide Street West (at Bay Street)', '...   \n",
       "3       520                                         ['Canada']   \n",
       "4       364                   ['Toronto ON M5G 2N2', 'Canada']   \n",
       "\n",
       "                                      labeledLatLngs        lat        lng  \\\n",
       "0  [{'label': 'display', 'lat': 43.65511996683289...  43.655120 -79.386645   \n",
       "1  [{'label': 'display', 'lat': 43.65564910619165...  43.655649 -79.384119   \n",
       "2  [{'label': 'display', 'lat': 43.65005028051833...  43.650050 -79.380662   \n",
       "3  [{'label': 'display', 'lat': 43.65814977325445...  43.658150 -79.381563   \n",
       "4  [{'label': 'display', 'lat': 43.65698561897954...  43.656986 -79.385840   \n",
       "\n",
       "  postalCode state  Rating  Pricing  Likes  \n",
       "0    M5G 1C7    ON     7.0      2.0    5.0  \n",
       "1        NaN    ON     0.0      2.0    0.0  \n",
       "2    M5H 3V1    ON     0.0      2.0    1.0  \n",
       "3        NaN   NaN     0.0      2.0    0.0  \n",
       "4    M5G 2N2    ON     0.0      1.0    0.0  "
      ]
     },
     "execution_count": 46,
     "metadata": {},
     "output_type": "execute_result"
    }
   ],
   "source": [
    "indiandf = pd.read_csv(\"IndianResturants.csv\")\n",
    "indiandf"
   ]
  },
  {
   "cell_type": "code",
   "execution_count": 48,
   "metadata": {},
   "outputs": [
    {
     "data": {
      "text/html": [
       "<div>\n",
       "<style scoped>\n",
       "    .dataframe tbody tr th:only-of-type {\n",
       "        vertical-align: middle;\n",
       "    }\n",
       "\n",
       "    .dataframe tbody tr th {\n",
       "        vertical-align: top;\n",
       "    }\n",
       "\n",
       "    .dataframe thead th {\n",
       "        text-align: right;\n",
       "    }\n",
       "</style>\n",
       "<table border=\"1\" class=\"dataframe\">\n",
       "  <thead>\n",
       "    <tr style=\"text-align: right;\">\n",
       "      <th></th>\n",
       "      <th>id</th>\n",
       "      <th>name</th>\n",
       "      <th>categories</th>\n",
       "      <th>address</th>\n",
       "      <th>cc</th>\n",
       "      <th>city</th>\n",
       "      <th>country</th>\n",
       "      <th>crossStreet</th>\n",
       "      <th>distance</th>\n",
       "      <th>formattedAddress</th>\n",
       "      <th>labeledLatLngs</th>\n",
       "      <th>lat</th>\n",
       "      <th>lng</th>\n",
       "      <th>postalCode</th>\n",
       "      <th>state</th>\n",
       "      <th>Rating</th>\n",
       "      <th>Pricing</th>\n",
       "      <th>Likes</th>\n",
       "    </tr>\n",
       "  </thead>\n",
       "  <tbody>\n",
       "    <tr>\n",
       "      <th>0</th>\n",
       "      <td>4afd920ff964a520ad2822e3</td>\n",
       "      <td>Indian Biriyani House</td>\n",
       "      <td>Indian Restaurant</td>\n",
       "      <td>181 Dundas St W</td>\n",
       "      <td>CA</td>\n",
       "      <td>Toronto</td>\n",
       "      <td>Canada</td>\n",
       "      <td>W of Chestnut St</td>\n",
       "      <td>232</td>\n",
       "      <td>['181 Dundas St W (W of Chestnut St)', 'Toront...</td>\n",
       "      <td>[{'label': 'display', 'lat': 43.65511996683289...</td>\n",
       "      <td>43.655120</td>\n",
       "      <td>-79.386645</td>\n",
       "      <td>M5G 1C7</td>\n",
       "      <td>ON</td>\n",
       "      <td>7.0</td>\n",
       "      <td>2.0</td>\n",
       "      <td>5.0</td>\n",
       "    </tr>\n",
       "    <tr>\n",
       "      <th>2</th>\n",
       "      <td>4fea497c121d2480d3579412</td>\n",
       "      <td>Indian Biriyani House</td>\n",
       "      <td>Indian Restaurant</td>\n",
       "      <td>120 Adelaide Street West</td>\n",
       "      <td>CA</td>\n",
       "      <td>Toronto</td>\n",
       "      <td>Canada</td>\n",
       "      <td>at Bay Street</td>\n",
       "      <td>519</td>\n",
       "      <td>['120 Adelaide Street West (at Bay Street)', '...</td>\n",
       "      <td>[{'label': 'display', 'lat': 43.65005028051833...</td>\n",
       "      <td>43.650050</td>\n",
       "      <td>-79.380662</td>\n",
       "      <td>M5H 3V1</td>\n",
       "      <td>ON</td>\n",
       "      <td>0.0</td>\n",
       "      <td>2.0</td>\n",
       "      <td>1.0</td>\n",
       "    </tr>\n",
       "    <tr>\n",
       "      <th>1</th>\n",
       "      <td>4b2a634af964a52020a824e3</td>\n",
       "      <td>Indian Flavour</td>\n",
       "      <td>Indian Restaurant</td>\n",
       "      <td>123 Dundas St W</td>\n",
       "      <td>CA</td>\n",
       "      <td>Toronto</td>\n",
       "      <td>Canada</td>\n",
       "      <td>btw Elizabeth &amp; Bay</td>\n",
       "      <td>194</td>\n",
       "      <td>['123 Dundas St W (btw Elizabeth &amp; Bay)', 'Tor...</td>\n",
       "      <td>[{'label': 'display', 'lat': 43.65564910619165...</td>\n",
       "      <td>43.655649</td>\n",
       "      <td>-79.384119</td>\n",
       "      <td>NaN</td>\n",
       "      <td>ON</td>\n",
       "      <td>0.0</td>\n",
       "      <td>2.0</td>\n",
       "      <td>0.0</td>\n",
       "    </tr>\n",
       "    <tr>\n",
       "      <th>3</th>\n",
       "      <td>5165c333e4b07a7ad88d8a69</td>\n",
       "      <td>Joe's Indian Restaurant</td>\n",
       "      <td>Indian Restaurant</td>\n",
       "      <td>NaN</td>\n",
       "      <td>CA</td>\n",
       "      <td>NaN</td>\n",
       "      <td>Canada</td>\n",
       "      <td>NaN</td>\n",
       "      <td>520</td>\n",
       "      <td>['Canada']</td>\n",
       "      <td>[{'label': 'display', 'lat': 43.65814977325445...</td>\n",
       "      <td>43.658150</td>\n",
       "      <td>-79.381563</td>\n",
       "      <td>NaN</td>\n",
       "      <td>NaN</td>\n",
       "      <td>0.0</td>\n",
       "      <td>2.0</td>\n",
       "      <td>0.0</td>\n",
       "    </tr>\n",
       "    <tr>\n",
       "      <th>4</th>\n",
       "      <td>596f9dea1fa7632be2eacab9</td>\n",
       "      <td>Mami's Indian Cuisine</td>\n",
       "      <td>Food Truck</td>\n",
       "      <td>NaN</td>\n",
       "      <td>CA</td>\n",
       "      <td>Toronto</td>\n",
       "      <td>Canada</td>\n",
       "      <td>NaN</td>\n",
       "      <td>364</td>\n",
       "      <td>['Toronto ON M5G 2N2', 'Canada']</td>\n",
       "      <td>[{'label': 'display', 'lat': 43.65698561897954...</td>\n",
       "      <td>43.656986</td>\n",
       "      <td>-79.385840</td>\n",
       "      <td>M5G 2N2</td>\n",
       "      <td>ON</td>\n",
       "      <td>0.0</td>\n",
       "      <td>1.0</td>\n",
       "      <td>0.0</td>\n",
       "    </tr>\n",
       "  </tbody>\n",
       "</table>\n",
       "</div>"
      ],
      "text/plain": [
       "                         id                     name         categories  \\\n",
       "0  4afd920ff964a520ad2822e3    Indian Biriyani House  Indian Restaurant   \n",
       "2  4fea497c121d2480d3579412    Indian Biriyani House  Indian Restaurant   \n",
       "1  4b2a634af964a52020a824e3           Indian Flavour  Indian Restaurant   \n",
       "3  5165c333e4b07a7ad88d8a69  Joe's Indian Restaurant  Indian Restaurant   \n",
       "4  596f9dea1fa7632be2eacab9    Mami's Indian Cuisine         Food Truck   \n",
       "\n",
       "                    address  cc     city country          crossStreet  \\\n",
       "0           181 Dundas St W  CA  Toronto  Canada     W of Chestnut St   \n",
       "2  120 Adelaide Street West  CA  Toronto  Canada        at Bay Street   \n",
       "1           123 Dundas St W  CA  Toronto  Canada  btw Elizabeth & Bay   \n",
       "3                       NaN  CA      NaN  Canada                  NaN   \n",
       "4                       NaN  CA  Toronto  Canada                  NaN   \n",
       "\n",
       "   distance                                   formattedAddress  \\\n",
       "0       232  ['181 Dundas St W (W of Chestnut St)', 'Toront...   \n",
       "2       519  ['120 Adelaide Street West (at Bay Street)', '...   \n",
       "1       194  ['123 Dundas St W (btw Elizabeth & Bay)', 'Tor...   \n",
       "3       520                                         ['Canada']   \n",
       "4       364                   ['Toronto ON M5G 2N2', 'Canada']   \n",
       "\n",
       "                                      labeledLatLngs        lat        lng  \\\n",
       "0  [{'label': 'display', 'lat': 43.65511996683289...  43.655120 -79.386645   \n",
       "2  [{'label': 'display', 'lat': 43.65005028051833...  43.650050 -79.380662   \n",
       "1  [{'label': 'display', 'lat': 43.65564910619165...  43.655649 -79.384119   \n",
       "3  [{'label': 'display', 'lat': 43.65814977325445...  43.658150 -79.381563   \n",
       "4  [{'label': 'display', 'lat': 43.65698561897954...  43.656986 -79.385840   \n",
       "\n",
       "  postalCode state  Rating  Pricing  Likes  \n",
       "0    M5G 1C7    ON     7.0      2.0    5.0  \n",
       "2    M5H 3V1    ON     0.0      2.0    1.0  \n",
       "1        NaN    ON     0.0      2.0    0.0  \n",
       "3        NaN   NaN     0.0      2.0    0.0  \n",
       "4    M5G 2N2    ON     0.0      1.0    0.0  "
      ]
     },
     "execution_count": 48,
     "metadata": {},
     "output_type": "execute_result"
    }
   ],
   "source": [
    "indiandf=indiandf.sort_values(by=['Likes'], ascending=False)\n",
    "indiandf.head()"
   ]
  },
  {
   "cell_type": "code",
   "execution_count": 49,
   "metadata": {},
   "outputs": [
    {
     "data": {
      "text/html": [
       "<div>\n",
       "<style scoped>\n",
       "    .dataframe tbody tr th:only-of-type {\n",
       "        vertical-align: middle;\n",
       "    }\n",
       "\n",
       "    .dataframe tbody tr th {\n",
       "        vertical-align: top;\n",
       "    }\n",
       "\n",
       "    .dataframe thead th {\n",
       "        text-align: right;\n",
       "    }\n",
       "</style>\n",
       "<table border=\"1\" class=\"dataframe\">\n",
       "  <thead>\n",
       "    <tr style=\"text-align: right;\">\n",
       "      <th></th>\n",
       "      <th>name</th>\n",
       "      <th>lat</th>\n",
       "      <th>lng</th>\n",
       "      <th>categories</th>\n",
       "      <th>Rating</th>\n",
       "      <th>Pricing</th>\n",
       "      <th>Likes</th>\n",
       "      <th>distance</th>\n",
       "    </tr>\n",
       "  </thead>\n",
       "  <tbody>\n",
       "    <tr>\n",
       "      <th>0</th>\n",
       "      <td>Indian Biriyani House</td>\n",
       "      <td>43.655120</td>\n",
       "      <td>-79.386645</td>\n",
       "      <td>Indian Restaurant</td>\n",
       "      <td>7.0</td>\n",
       "      <td>2.0</td>\n",
       "      <td>5.0</td>\n",
       "      <td>232</td>\n",
       "    </tr>\n",
       "    <tr>\n",
       "      <th>2</th>\n",
       "      <td>Indian Biriyani House</td>\n",
       "      <td>43.650050</td>\n",
       "      <td>-79.380662</td>\n",
       "      <td>Indian Restaurant</td>\n",
       "      <td>0.0</td>\n",
       "      <td>2.0</td>\n",
       "      <td>1.0</td>\n",
       "      <td>519</td>\n",
       "    </tr>\n",
       "    <tr>\n",
       "      <th>1</th>\n",
       "      <td>Indian Flavour</td>\n",
       "      <td>43.655649</td>\n",
       "      <td>-79.384119</td>\n",
       "      <td>Indian Restaurant</td>\n",
       "      <td>0.0</td>\n",
       "      <td>2.0</td>\n",
       "      <td>0.0</td>\n",
       "      <td>194</td>\n",
       "    </tr>\n",
       "    <tr>\n",
       "      <th>3</th>\n",
       "      <td>Joe's Indian Restaurant</td>\n",
       "      <td>43.658150</td>\n",
       "      <td>-79.381563</td>\n",
       "      <td>Indian Restaurant</td>\n",
       "      <td>0.0</td>\n",
       "      <td>2.0</td>\n",
       "      <td>0.0</td>\n",
       "      <td>520</td>\n",
       "    </tr>\n",
       "    <tr>\n",
       "      <th>4</th>\n",
       "      <td>Mami's Indian Cuisine</td>\n",
       "      <td>43.656986</td>\n",
       "      <td>-79.385840</td>\n",
       "      <td>Food Truck</td>\n",
       "      <td>0.0</td>\n",
       "      <td>1.0</td>\n",
       "      <td>0.0</td>\n",
       "      <td>364</td>\n",
       "    </tr>\n",
       "  </tbody>\n",
       "</table>\n",
       "</div>"
      ],
      "text/plain": [
       "                      name        lat        lng         categories  Rating  \\\n",
       "0    Indian Biriyani House  43.655120 -79.386645  Indian Restaurant     7.0   \n",
       "2    Indian Biriyani House  43.650050 -79.380662  Indian Restaurant     0.0   \n",
       "1           Indian Flavour  43.655649 -79.384119  Indian Restaurant     0.0   \n",
       "3  Joe's Indian Restaurant  43.658150 -79.381563  Indian Restaurant     0.0   \n",
       "4    Mami's Indian Cuisine  43.656986 -79.385840         Food Truck     0.0   \n",
       "\n",
       "   Pricing  Likes  distance  \n",
       "0      2.0    5.0       232  \n",
       "2      2.0    1.0       519  \n",
       "1      2.0    0.0       194  \n",
       "3      2.0    0.0       520  \n",
       "4      1.0    0.0       364  "
      ]
     },
     "execution_count": 49,
     "metadata": {},
     "output_type": "execute_result"
    }
   ],
   "source": [
    "indiandf[['name','lat','lng','categories','Rating','Pricing','Likes','distance']]"
   ]
  },
  {
   "cell_type": "code",
   "execution_count": 50,
   "metadata": {},
   "outputs": [
    {
     "data": {
      "text/plain": [
       "7.0"
      ]
     },
     "execution_count": 50,
     "metadata": {},
     "output_type": "execute_result"
    }
   ],
   "source": [
    "indiandf['Rating'].max()"
   ]
  },
  {
   "cell_type": "markdown",
   "metadata": {},
   "source": [
    "#### The Maximum Rating is 7.0 and is for Indian Biriyanu House"
   ]
  },
  {
   "cell_type": "code",
   "execution_count": 53,
   "metadata": {},
   "outputs": [
    {
     "data": {
      "text/html": [
       "<div>\n",
       "<style scoped>\n",
       "    .dataframe tbody tr th:only-of-type {\n",
       "        vertical-align: middle;\n",
       "    }\n",
       "\n",
       "    .dataframe tbody tr th {\n",
       "        vertical-align: top;\n",
       "    }\n",
       "\n",
       "    .dataframe thead th {\n",
       "        text-align: right;\n",
       "    }\n",
       "</style>\n",
       "<table border=\"1\" class=\"dataframe\">\n",
       "  <thead>\n",
       "    <tr style=\"text-align: right;\">\n",
       "      <th></th>\n",
       "      <th>Name</th>\n",
       "      <th>Average Rating</th>\n",
       "    </tr>\n",
       "  </thead>\n",
       "  <tbody>\n",
       "    <tr>\n",
       "      <th>0</th>\n",
       "      <td>Indian Biriyani House</td>\n",
       "      <td>3.5</td>\n",
       "    </tr>\n",
       "    <tr>\n",
       "      <th>1</th>\n",
       "      <td>Indian Flavour</td>\n",
       "      <td>0.0</td>\n",
       "    </tr>\n",
       "    <tr>\n",
       "      <th>2</th>\n",
       "      <td>Joe's Indian Restaurant</td>\n",
       "      <td>0.0</td>\n",
       "    </tr>\n",
       "    <tr>\n",
       "      <th>3</th>\n",
       "      <td>Mami's Indian Cuisine</td>\n",
       "      <td>0.0</td>\n",
       "    </tr>\n",
       "  </tbody>\n",
       "</table>\n",
       "</div>"
      ],
      "text/plain": [
       "                      Name  Average Rating\n",
       "0    Indian Biriyani House             3.5\n",
       "1           Indian Flavour             0.0\n",
       "2  Joe's Indian Restaurant             0.0\n",
       "3    Mami's Indian Cuisine             0.0"
      ]
     },
     "execution_count": 53,
     "metadata": {},
     "output_type": "execute_result"
    }
   ],
   "source": [
    "indiandf1=indiandf.groupby('name',as_index=False).mean()[['name','Rating']]\n",
    "indiandf1.columns=['Name','Average Rating']\n",
    "indiandf1"
   ]
  },
  {
   "cell_type": "code",
   "execution_count": 55,
   "metadata": {},
   "outputs": [
    {
     "data": {
      "text/html": [
       "<div>\n",
       "<style scoped>\n",
       "    .dataframe tbody tr th:only-of-type {\n",
       "        vertical-align: middle;\n",
       "    }\n",
       "\n",
       "    .dataframe tbody tr th {\n",
       "        vertical-align: top;\n",
       "    }\n",
       "\n",
       "    .dataframe thead th {\n",
       "        text-align: right;\n",
       "    }\n",
       "</style>\n",
       "<table border=\"1\" class=\"dataframe\">\n",
       "  <thead>\n",
       "    <tr style=\"text-align: right;\">\n",
       "      <th></th>\n",
       "      <th>Name</th>\n",
       "      <th>Average Rating</th>\n",
       "    </tr>\n",
       "  </thead>\n",
       "  <tbody>\n",
       "    <tr>\n",
       "      <th>0</th>\n",
       "      <td>Indian Biriyani House</td>\n",
       "      <td>3.5</td>\n",
       "    </tr>\n",
       "    <tr>\n",
       "      <th>1</th>\n",
       "      <td>Indian Flavour</td>\n",
       "      <td>0.0</td>\n",
       "    </tr>\n",
       "    <tr>\n",
       "      <th>2</th>\n",
       "      <td>Joe's Indian Restaurant</td>\n",
       "      <td>0.0</td>\n",
       "    </tr>\n",
       "    <tr>\n",
       "      <th>3</th>\n",
       "      <td>Mami's Indian Cuisine</td>\n",
       "      <td>0.0</td>\n",
       "    </tr>\n",
       "  </tbody>\n",
       "</table>\n",
       "</div>"
      ],
      "text/plain": [
       "                      Name  Average Rating\n",
       "0    Indian Biriyani House             3.5\n",
       "1           Indian Flavour             0.0\n",
       "2  Joe's Indian Restaurant             0.0\n",
       "3    Mami's Indian Cuisine             0.0"
      ]
     },
     "execution_count": 55,
     "metadata": {},
     "output_type": "execute_result"
    }
   ],
   "source": [
    "indiandf1.sort_values(['Average Rating'],ascending=False).head()"
   ]
  },
  {
   "cell_type": "code",
   "execution_count": 57,
   "metadata": {},
   "outputs": [
    {
     "data": {
      "image/png": "[encoded data removed]",
      "text/plain": [
       "<Figure size 900x500 with 1 Axes>"
      ]
     },
     "metadata": {
      "needs_background": "light"
     },
     "output_type": "display_data"
    }
   ],
   "source": [
    "plt.figure(figsize=(9,5), dpi = 100)\n",
    "plt.title('Average rating of Indian Resturants')\n",
    "plt.xlabel('Name', fontsize = 15)\n",
    "plt.ylabel('Average Rating', fontsize=15)\n",
    "indiandf1.groupby('Name').mean()['Average Rating'].plot(kind='bar')\n",
    "plt.legend()\n",
    "plt.show()"
   ]
  },
  {
   "cell_type": "code",
   "execution_count": 59,
   "metadata": {},
   "outputs": [],
   "source": [
    "def color(avg): \n",
    "    if avg >= 5:\n",
    "        col ='Green'\n",
    "    elif 3 <= avg < 5: \n",
    "        col = 'yellow'\n",
    "    else: \n",
    "        col='blue'\n",
    "    return col \n"
   ]
  },
  {
   "cell_type": "code",
   "execution_count": 60,
   "metadata": {},
   "outputs": [],
   "source": [
    "venues_map = folium.Map(location=[latitude, longitude], zoom_start=13) # generate map centred around the Conrad Hotel\n"
   ]
  },
  {
   "cell_type": "code",
   "execution_count": 62,
   "metadata": {},
   "outputs": [],
   "source": [
    "folium.features.CircleMarker(\n",
    "    [latitude, longitude],\n",
    "    radius=10,\n",
    "    color='red',\n",
    "    popup='Toronto',\n",
    "    fill = True,\n",
    "    fill_color = 'red',\n",
    "    fill_opacity = 0.6\n",
    ").add_to(venues_map)\n",
    "\n",
    "for lat, lng, label,avg in zip(indiandf.lat, indiandf.lng, indiandf.categories,indiandf.Rating):\n",
    "    folium.features.CircleMarker(\n",
    "        [lat, lng],\n",
    "        radius=5,\n",
    "        color=color(avg),\n",
    "        popup=label,\n",
    "        fill = True,\n",
    "        #fill_color='blue',\n",
    "        fill_opacity=0.6\n",
    "    ).add_to(venues_map)"
   ]
  },
  {
   "cell_type": "code",
   "execution_count": 63,
   "metadata": {},
   "outputs": [
    {
     "data": {
      "text/html": [
       "<div style=\"width:100%;\"><div style=\"position:relative;width:100%;height:0;padding-bottom:60%;\"><iframe src=\"data:text/html;charset=utf-8;base64,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\" style=\"position:absolute;width:100%;height:100%;left:0;top:0;border:none !important;\" allowfullscreen webkitallowfullscreen mozallowfullscreen></iframe></div></div>"
      ],
      "text/plain": [
       "<folium.folium.Map at 0x19c210193c8>"
      ]
     },
     "execution_count": 63,
     "metadata": {},
     "output_type": "execute_result"
    }
   ],
   "source": [
    "venues_map"
   ]
  }
 ],
 "metadata": {
  "kernelspec": {
   "display_name": "Python 3",
   "language": "python",
   "name": "python3"
  },
  "language_info": {
   "codemirror_mode": {
    "name": "ipython",
    "version": 3
   },
   "file_extension": ".py",
   "mimetype": "text/x-python",
   "name": "python",
   "nbconvert_exporter": "python",
   "pygments_lexer": "ipython3",
   "version": "3.7.3"
  }
 },
 "nbformat": 4,
 "nbformat_minor": 2
}
