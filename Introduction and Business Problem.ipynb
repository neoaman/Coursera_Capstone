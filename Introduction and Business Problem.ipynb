{
 "cells": [
  {
   "cell_type": "markdown",
   "metadata": {},
   "source": [
    "# My Capstone Project"
   ]
  },
  {
   "cell_type": "markdown",
   "metadata": {},
   "source": [
    "<hr>"
   ]
  },
  {
   "cell_type": "markdown",
   "metadata": {},
   "source": [
    "## __Project Name__ :   \n",
    "# Survive in Bangalore"
   ]
  },
  {
   "cell_type": "markdown",
   "metadata": {},
   "source": [
    "### In my project I am going to share you some idea about exploring new places using foursquare api.   \n",
    "### Introduction/Business Problem:\n",
    "#### Suppose I have completed my Post Graduation in Statistics from Bhubaneswar, Odisha and moving to Bangalore for higher studies in Data science. Although you have much idea to survive in new places, asking to neighouberhood friends and your instructors also room-mate. But what if you havenot been to Bangalore prior to this, also you dont have bike to explore the new place. So dont worry about it, we have our friendly app foursquare to help us in our journey.    \n",
    "#### Using the Developer option we can gather data from all over the BTM Layout Area of Bangaluru, and use the relevent data for our decission making purpose.\n",
    "Right after Deciding Where to Study:   \n",
    ". Search for Nearby ATM to Collect cash.   \n",
    ". Search for Nearby PG.   \n",
    ". Search for Hotels, Cafe near your location.   \n",
    "\n"
   ]
  }
 ],
 "metadata": {
  "kernelspec": {
   "display_name": "Python 3",
   "language": "python",
   "name": "python3"
  },
  "language_info": {
   "codemirror_mode": {
    "name": "ipython",
    "version": 3
   },
   "file_extension": ".py",
   "mimetype": "text/x-python",
   "name": "python",
   "nbconvert_exporter": "python",
   "pygments_lexer": "ipython3",
   "version": "3.7.3"
  }
 },
 "nbformat": 4,
 "nbformat_minor": 2
}
